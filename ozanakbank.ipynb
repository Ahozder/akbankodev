{
  "nbformat": 4,
  "nbformat_minor": 0,
  "metadata": {
    "colab": {
      "provenance": []
    },
    "kernelspec": {
      "name": "python3",
      "display_name": "Python 3"
    },
    "language_info": {
      "name": "python"
    }
  },
  "cells": [
    {
      "cell_type": "code",
      "execution_count": 2,
      "metadata": {
        "id": "uodg32nkwezH"
      },
      "outputs": [],
      "source": [
        "import csv\n",
        "import datetime"
      ]
    },
    {
      "cell_type": "code",
      "source": [
        "with open('Menu.txt', 'w') as file:\n",
        "    file.write('''Lütfen Bir Pizza Tabanı Seçiniz:\n",
        "1: Klasik\n",
        "2: Margarita\n",
        "3: TürkPizza\n",
        "4: Sade Pizza\n",
        "ve seçeceğiniz sos:\n",
        "11: Zeytin\n",
        "12: Mantarlar\n",
        "13: Keçi Peyniri\n",
        "14: Et\n",
        "15: Soğan\n",
        "16: Misir\n",
        "Teşekkür ederiz!''')"
      ],
      "metadata": {
        "id": "IBM4wgaUwlBL"
      },
      "execution_count": 3,
      "outputs": []
    },
    {
      "cell_type": "code",
      "source": [
        "class Pizza:\n",
        "    def __init__(self, description, cost):\n",
        "        self.description = description\n",
        "        self.cost = cost\n",
        "    \n",
        "    def get_description(self):\n",
        "        return self.description\n",
        "    \n",
        "    def get_cost(self):\n",
        "        return self.cost\n",
        "\n",
        "class Klasik(Pizza):\n",
        "    def __init__(self):\n",
        "        super().__init__(\"Klasik Pizza\", 20.0)\n",
        "\n",
        "class Margarita(Pizza):\n",
        "    def __init__(self):\n",
        "        super().__init__(\"Margarita Pizza\", 25.0)\n",
        "\n",
        "class TurkPizza(Pizza):\n",
        "    def __init__(self):\n",
        "        super().__init__(\"Türk Pizza\", 30.0)\n",
        "\n",
        "class SadePizza(Pizza):\n",
        "    def __init__(self):\n",
        "        super().__init__(\"Sade Pizza\", 15.0)\n",
        "\n",
        "class Decorator(Pizza):\n",
        "    def __init__(self, component):\n",
        "        self.component = component\n",
        "    \n",
        "    def get_cost(self):\n",
        "        return self.component.get_cost() + Pizza.get_cost(self)\n",
        "    \n",
        "    def get_description(self):\n",
        "        return self.component.get_description() + ' ' + Pizza.get_description(self)\n",
        "\n",
        "class Zeytin(Decorator):\n",
        "    def __init__(self, component):\n",
        "        super().__init__(component)\n",
        "        self.description = \"Zeytin\"\n",
        "        self.cost = 2.0\n",
        "\n",
        "class Mantarlar(Decorator):\n",
        "    def __init__(self, component):\n",
        "        super().__init__(component)\n",
        "        self.description = \"Mantarlar\"\n",
        "        self.cost = 3.0\n",
        "\n",
        "class KeciPeyniri(Decorator):\n",
        "    def __init__(self, component):\n",
        "        super().__init__(component)\n",
        "        self.description = \"Keçi Peyniri\"\n",
        "        self.cost = 4.0\n",
        "\n",
        "class Et(Decorator):\n",
        "    def __init__(self, component):\n",
        "        super().__init__(component)\n",
        "        self.description = \"Et\"\n",
        "        self.cost = 5.0\n",
        "\n",
        "class Sogan(Decorator):\n",
        "    def __init__(self, component):\n",
        "        super().__init__(component)\n",
        "        self.description = \"Soğan\"\n",
        "        self.cost = 2.5\n",
        "\n",
        "class Misir(Decorator):\n",
        "  def __init__(self, component):\n",
        "      super().__init__(component)\n",
        "      self.description = \"Misir\"\n",
        "      self.cost = 2.5"
      ],
      "metadata": {
        "id": "Bd48LdPhwmtN"
      },
      "execution_count": 4,
      "outputs": []
    },
    {
      "cell_type": "code",
      "source": [
        "def main():\n",
        "    with open('Menu.txt', 'r') as file:\n",
        "        print(file.read())\n",
        "\n",
        "    pizza_secimi = int(input(\"Lütfen bir pizza seçin (1-4): \"))\n",
        "    if pizza_secimi == 1:\n",
        "        pizza = Klasik()\n",
        "    elif pizza_secimi == 2:\n",
        "        pizza = Margarita()\n",
        "    elif pizza_secimi == 3:\n",
        "        pizza = TurkPizza()\n",
        "    elif pizza_secimi == 4:\n",
        "        pizza = SadePizza()\n",
        "    else:\n",
        "        print(\"Hatalı seçim yaptınız.\")\n",
        "        return\n",
        "\n",
        "    sos_secim = int(input(\"Lütfen bir sos seçin (11-16): \"))\n",
        "    if sos_secim == 11:\n",
        "        pizza = Zeytin(pizza)\n",
        "    elif sos_secim == 12:\n",
        "        pizza = Mantarlar(pizza)\n",
        "    elif sos_secim == 13:\n",
        "        pizza = KeciPeyniri(pizza)\n",
        "    elif sos_secim == 14:\n",
        "        pizza = Et(pizza)\n",
        "    elif sos_secim == 15:\n",
        "        pizza = Sogan(pizza)\n",
        "    elif sos_secim == 16:\n",
        "        pizza = Misir(pizza)\n",
        "    else:\n",
        "        print(\"Seçiminiz bulunamamıştır.\")\n",
        "        return\n",
        "\n",
        "    total_maliyet = pizza.get_cost()\n",
        "    print(\"Toplam tutar: \", total_maliyet)\n",
        "\n",
        "    isim = input(\"Adınız: \")\n",
        "    kimlik_no = input(\"Kimlik numaranız: \")\n",
        "    kredi_kart_numarasi = input(\"Kredi kartı numaranız: \")\n",
        "    kredi_kart_sifresi = input(\"Kredi kartı şifreniz: \")\n",
        "\n",
        "    with open('Orders_Database.csv', 'a', newline='') as file:\n",
        "        writer = csv.writer(file)\n",
        "        writer.writerow([pizza.get_description(), isim, kimlik_no, kredi_kart_numarasi, datetime.datetime.now(), kredi_kart_sifresi])"
      ],
      "metadata": {
        "id": "0Dcd7MZqwqpO"
      },
      "execution_count": 5,
      "outputs": []
    },
    {
      "cell_type": "code",
      "source": [
        "if __name__ == '__main__':\n",
        "    main()"
      ],
      "metadata": {
        "colab": {
          "base_uri": "https://localhost:8080/"
        },
        "id": "19fL_26jwumK",
        "outputId": "89bc470f-9e64-4eb0-a557-bd68364571bf"
      },
      "execution_count": 6,
      "outputs": [
        {
          "name": "stdout",
          "output_type": "stream",
          "text": [
            "Lütfen Bir Pizza Tabanı Seçiniz:\n",
            "1: Klasik\n",
            "2: Margarita\n",
            "3: TürkPizza\n",
            "4: Sade Pizza\n",
            "ve seçeceğiniz sos:\n",
            "11: Zeytin\n",
            "12: Mantarlar\n",
            "13: Keçi Peyniri\n",
            "14: Et\n",
            "15: Soğan\n",
            "16: Misir\n",
            "Teşekkür ederiz!\n",
            "Lütfen bir pizza seçin (1-4): 3\n",
            "Lütfen bir sos seçin (11-16): 12\n",
            "Toplam tutar:  33.0\n",
            "Adınız: ozan\n",
            "Kimlik numaranız: 11111111111\n",
            "Kredi kartı numaranız: 1111\n",
            "Kredi kartı şifreniz: 1234\n"
          ]
        }
      ]
    }
  ]
}